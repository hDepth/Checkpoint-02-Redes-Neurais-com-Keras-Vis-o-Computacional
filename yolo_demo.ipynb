{
  "nbformat": 4,
  "nbformat_minor": 0,
  "metadata": {
    "colab": {
      "provenance": [],
      "authorship_tag": "ABX9TyPFfmJnYiWdC2FonoAdaZiC",
      "include_colab_link": true
    },
    "kernelspec": {
      "name": "python3",
      "display_name": "Python 3"
    },
    "language_info": {
      "name": "python"
    }
  },
  "cells": [
    {
      "cell_type": "markdown",
      "metadata": {
        "id": "view-in-github",
        "colab_type": "text"
      },
      "source": [
        "<a href=\"https://colab.research.google.com/github/hDepth/Checkpoint-02-Redes-Neurais-com-Keras-Vis-o-Computacional/blob/main/yolo_demo.ipynb\" target=\"_parent\"><img src=\"https://colab.research.google.com/assets/colab-badge.svg\" alt=\"Open In Colab\"/></a>"
      ]
    },
    {
      "cell_type": "markdown",
      "source": [
        "# ***Célula 1 — Instalar e importar YOLO***"
      ],
      "metadata": {
        "id": "T4lno0LiHUG7"
      }
    },
    {
      "cell_type": "code",
      "source": [
        "# ============================================================\n",
        "# 📸 Checkpoint 02 - Parte 02\n",
        "# Ferramenta 1: YOLOv8 (Ultralytics) - Detecção de Objetos\n",
        "# ============================================================\n",
        "\n",
        "!pip install ultralytics --quiet\n",
        "\n",
        "from ultralytics import YOLO\n",
        "from IPython.display import Image, display\n",
        "import urllib.request\n",
        "import os\n",
        "\n",
        "print(\"✅ YOLOv8 instalado e pronto.\")\n"
      ],
      "metadata": {
        "id": "IW0my77MHVu7"
      },
      "execution_count": null,
      "outputs": []
    },
    {
      "cell_type": "markdown",
      "source": [
        "# ***Célula 2 — Baixar imagens de teste***"
      ],
      "metadata": {
        "id": "sP9_e1T1HWwT"
      }
    },
    {
      "cell_type": "code",
      "source": [
        "# 1️⃣ Baixando imagens de exemplo da internet\n",
        "os.makedirs(\"images\", exist_ok=True)\n",
        "\n",
        "urls = [\n",
        "    \"https://ultralytics.com/images/bus.jpg\",\n",
        "    \"https://ultralytics.com/images/zidane.jpg\"\n",
        "]\n",
        "\n",
        "for i, url in enumerate(urls):\n",
        "    path = f\"images/img{i+1}.jpg\"\n",
        "    urllib.request.urlretrieve(url, path)\n",
        "\n",
        "print(\"📸 Imagens baixadas com sucesso!\")\n"
      ],
      "metadata": {
        "id": "GWb0vFUsHYa7"
      },
      "execution_count": null,
      "outputs": []
    },
    {
      "cell_type": "markdown",
      "source": [
        "# ***Célula 3 — Carregar modelo YOLO pré-treinado***"
      ],
      "metadata": {
        "id": "yVnixfvlHbhT"
      }
    },
    {
      "cell_type": "code",
      "source": [
        "# 2️⃣ Carregando modelo YOLO pré-treinado (versão nano)\n",
        "model = YOLO('yolov8n.pt')\n"
      ],
      "metadata": {
        "id": "MkGL2uzbHeIL"
      },
      "execution_count": null,
      "outputs": []
    },
    {
      "cell_type": "markdown",
      "source": [
        "# ***Célula 4 — Rodar detecção nas imagens***"
      ],
      "metadata": {
        "id": "dwNyBccgHfOD"
      }
    },
    {
      "cell_type": "code",
      "source": [
        "# 3️⃣ Fazendo detecção de objetos nas imagens\n",
        "results = model.predict(\"images\", save=True)\n",
        "\n",
        "# Exibindo resultados\n",
        "output_folder = results[0].save_dir\n",
        "for i, file in enumerate(os.listdir(output_folder)):\n",
        "    display(Image(filename=os.path.join(output_folder, file)))\n"
      ],
      "metadata": {
        "id": "07-YmoKxHg7z"
      },
      "execution_count": null,
      "outputs": []
    },
    {
      "cell_type": "markdown",
      "source": [
        "# ***Célula 5 — Observação final***"
      ],
      "metadata": {
        "id": "1O2Bcni3HiIz"
      }
    },
    {
      "cell_type": "code",
      "source": [
        "print(\"\"\"\n",
        "✅ YOLOv8 detectou objetos nas imagens de teste com sucesso.\n",
        "👉 Este modelo é pré-treinado no COCO Dataset (80 classes de objetos).\n",
        "👉 Pode ser adaptado para datasets personalizados se desejado.\n",
        "\"\"\")\n"
      ],
      "metadata": {
        "id": "gVQ0M7RxHjsz"
      },
      "execution_count": null,
      "outputs": []
    }
  ]
}